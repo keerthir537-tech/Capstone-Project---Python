{
 "cells": [
  {
   "cell_type": "code",
   "execution_count": 50,
   "id": "7c20215e-8b5a-4cc0-9154-ed5363f94d70",
   "metadata": {},
   "outputs": [],
   "source": [
    "#Task-1 Making the three different dataframes in python and saving them as .csv files "
   ]
  },
  {
   "cell_type": "code",
   "execution_count": 129,
   "id": "2edf6501-ce81-4ae5-abe6-b739f09451f1",
   "metadata": {},
   "outputs": [],
   "source": [
    "\n",
    "import pandas as pd    # Importing the pandas as 'pd' to read the tables\n",
    "employee_data = {\n",
    "    \"ID\": [\"A001\", \"A002\", \"A003\", \"A004\", \"A005\"],           # updating the all the information from the employees Table\n",
    "    \"Name\": [\"John Alter\", \"Alice Luxumberg\", \"Tom Sabestine\", \"Nina Adgra\", \"Amy Johny\"],  \n",
    "    \"Gender\": [\"M\", \"F\", \"M\", \"F\", \"F\"],\n",
    "    \"City\": [\"Paris\", \"London\", \"Berlin\", \"Newyork\", \"Madrid\"],\n",
    "    \"Age\": [25, 27, 29, 31, 30]\n",
    "}\n",
    "employee = pd.DataFrame(employee_data) # saving the table as employee data \n",
    "\n",
    "\n",
    "employee.to_csv(\"employee.csv\", index=False) # saving the table as csv"
   ]
  },
  {
   "cell_type": "code",
   "execution_count": 130,
   "id": "4ca861b4-e3d6-4022-9ce8-b7db1bf50666",
   "metadata": {},
   "outputs": [],
   "source": [
    "\n",
    "seniority_data = {\n",
    "    \"ID\": [\"A001\", \"A002\", \"A003\", \"A004\", \"A005\"],  # updating the all the information from the seniority Table\n",
    "    \"Designation_Level\": [2, 2, 3, 2, 3]    \n",
    "}\n",
    "seniority = pd.DataFrame(seniority_data) # saving the table as seniority\n",
    "seniority.to_csv(\"seniority.csv\", index=False) # saving the table as csv"
   ]
  },
  {
   "cell_type": "code",
   "execution_count": 131,
   "id": "5644222d-e324-49e0-957c-2b4de9c03a6c",
   "metadata": {},
   "outputs": [],
   "source": [
    "\n",
    "project_data = {\n",
    "    \"ID\": [\"A001\",\"A002\",\"A003\",\"A004\",\"A005\",\"A002\",\"A005\",\"A003\",\"A001\",\"A003\",\"A001\",\"A004\",\"A004\",\"A005\"], # updating the all the information from the Project_data Table\n",
    "    \"Project\": [\n",
    "        \"Project 1\",\"Project 2\",\"Project 3\",\"Project 4\",\"Project 5\",\n",
    "        \"Project 6\",\"Project 7\",\"Project 8\",\"Project 9\",\"Project 10\",\n",
    "        \"Project 11\",\"Project 12\",\"Project 13\",\"Project 14\"  # updating the \"Project\" information\n",
    "    ],\n",
    "    \"Cost\": [\n",
    "        1002000,2000000,4500000,5500000,None,\n",
    "        680000,400000,350000,None,300000,\n",
    "        2000000,1000000,3000000,200000   # updating the \"Cost\" information\n",
    "    ],\n",
    "    \"Status\": [\n",
    "        \"Finished\",\"Ongoing\",\"Finished\",\"Ongoing\",\"Finished\",\n",
    "        \"Failed\",\"Finished\",\"Failed\",\"Ongoing\",\"Finished\",\n",
    "        \"Failed\",\"Ongoing\",\"Finished\",\"Finished\"  # updating the \"Status\" information\n",
    "    ]\n",
    "}\n",
    "\n",
    "project = pd.DataFrame(project_data) # saving the table as Project_data\n",
    "\n",
    "project.to_csv(\"project.csv\", index=False) # saving the table as csv"
   ]
  },
  {
   "cell_type": "code",
   "execution_count": 132,
   "id": "083af96d-5d31-4964-bb23-44f8bc5bd40e",
   "metadata": {},
   "outputs": [
    {
     "name": "stdout",
     "output_type": "stream",
     "text": [
      "Employee DataFrame:\n",
      "   ID            Name Gender    City  Age\n",
      "A001      John Alter      M   Paris   25\n",
      "A002 Alice Luxumberg      F  London   27\n",
      "A003   Tom Sabestine      M  Berlin   29\n",
      "A004      Nina Adgra      F Newyork   31\n",
      "A005       Amy Johny      F  Madrid   30\n",
      "\n",
      "Seniority DataFrame:\n",
      "   ID  Designation_Level\n",
      "A001                  2\n",
      "A002                  2\n",
      "A003                  3\n",
      "A004                  2\n",
      "A005                  3\n",
      "\n",
      "Project DataFrame (with missing values):\n",
      "   ID    Project    Cost   Status\n",
      "A001  Project 1 1002000 Finished\n",
      "A002  Project 2 2000000  Ongoing\n",
      "A003  Project 3 4500000 Finished\n",
      "A004  Project 4 5500000  Ongoing\n",
      "A005  Project 5     NaN Finished\n",
      "A002  Project 6  680000   Failed\n",
      "A005  Project 7  400000 Finished\n",
      "A003  Project 8  350000   Failed\n",
      "A001  Project 9     NaN  Ongoing\n",
      "A003 Project 10  300000 Finished\n",
      "A001 Project 11 2000000   Failed\n",
      "A004 Project 12 1000000  Ongoing\n",
      "A004 Project 13 3000000 Finished\n",
      "A005 Project 14  200000 Finished\n"
     ]
    }
   ],
   "source": [
    "\n",
    "pd.set_option(\"display.max_rows\", None)  # displaying the all the \"Columns\" and \"Rows\"\n",
    "pd.set_option(\"display.max_columns\", None)\n",
    "\n",
    "\n",
    "print(\"Employee DataFrame:\\n\", employee.to_string(index=False))  \n",
    "print(\"\\nSeniority DataFrame:\\n\", seniority.to_string(index=False))\n",
    "print(\"\\nProject DataFrame (with missing values):\\n\", project.to_string(index=False)) # displaying all the three tables"
   ]
  },
  {
   "cell_type": "code",
   "execution_count": 85,
   "id": "743531d9-5c9e-4dae-ab43-6293bd5f06b9",
   "metadata": {},
   "outputs": [],
   "source": [
    "# Task-2 Finding the Missing values for the cost column in the dataframe \" project\" and replacing the missing values by runing average using the \"for\" loop. "
   ]
  },
  {
   "cell_type": "code",
   "execution_count": 134,
   "id": "39f9d491-8b37-40f7-a9ef-a56826482dc4",
   "metadata": {},
   "outputs": [],
   "source": [
    "\n",
    "import numpy as np   # importing numpy to use numerical values\n",
    "\n",
    "\n",
    "project = pd.read_csv(\"project.csv\")  \n",
    "\n",
    "\n",
    "running_sum = 0\n",
    "count = 0"
   ]
  },
  {
   "cell_type": "code",
   "execution_count": 135,
   "id": "bdca93fb-5499-4e35-b9d4-5a3c06b7bf5b",
   "metadata": {},
   "outputs": [],
   "source": [
    "\n",
    "for i in range(len(project)):   \n",
    "    if pd.isna(project.loc[i, \"Cost\"]): \n",
    "        if count > 0:\n",
    "            project.loc[i, \"Cost\"] = running_sum / count   # calculate the running average and assign it to the missing 'Cost'\n",
    "            running_sum += project.loc[i, \"Cost\"]\n",
    "            count += 1 \n",
    "    else:\n",
    "        running_sum += project.loc[i, \"Cost\"]  # if the 'Cost' is not missing, add it to the running sum\n",
    "        count += 1  # increment the count for the number of valid costs encountered"
   ]
  },
  {
   "cell_type": "code",
   "execution_count": 136,
   "id": "178b28bf-9a98-45b7-ac64-a982b8e7a54c",
   "metadata": {},
   "outputs": [
    {
     "name": "stdout",
     "output_type": "stream",
     "text": [
      "\n",
      " Updated project Dataframe:\n",
      "\n",
      "  ID    Project      Cost   Status\n",
      "A001  Project 1 1002000.0 Finished\n",
      "A002  Project 2 2000000.0  Ongoing\n",
      "A003  Project 3 4500000.0 Finished\n",
      "A004  Project 4 5500000.0  Ongoing\n",
      "A005  Project 5 3250500.0 Finished\n",
      "A002  Project 6  680000.0   Failed\n",
      "A005  Project 7  400000.0 Finished\n",
      "A003  Project 8  350000.0   Failed\n",
      "A001  Project 9 2210312.5  Ongoing\n",
      "A003 Project 10  300000.0 Finished\n",
      "A001 Project 11 2000000.0   Failed\n",
      "A004 Project 12 1000000.0  Ongoing\n",
      "A004 Project 13 3000000.0 Finished\n",
      "A005 Project 14  200000.0 Finished\n"
     ]
    }
   ],
   "source": [
    "\n",
    "project.to_csv(\"project_updated.csv\", index=False) # saving the updated file as csv\n",
    "\n",
    "\n",
    "pd.set_option(\"display.max_rows\", None) # displaying all the rows\n",
    "pd.set_option(\"display.max_columns\", None) # displaying all the columns\n",
    "pd.set_option(\"display.float_format\", '{:.1f}'.format)\n",
    "\n",
    "print(\"\\n Updated project Dataframe:\\n\")\n",
    "print(project.to_string(index=False)) # dispaying the project dataframes with the missed values"
   ]
  },
  {
   "cell_type": "code",
   "execution_count": 89,
   "id": "534dd3d8-e155-46cc-b514-b4cb5ad28b7f",
   "metadata": {},
   "outputs": [],
   "source": [
    "# Task-3 splitting the name column in Employe dataframe into two individual columns as \" First Name\" and \" Last Name\" and removing the older name coumn. "
   ]
  },
  {
   "cell_type": "code",
   "execution_count": 138,
   "id": "048a16e8-43dc-4941-a92b-1abcf1ce790f",
   "metadata": {},
   "outputs": [
    {
     "name": "stdout",
     "output_type": "stream",
     "text": [
      "\n",
      " Employee table updated:\n",
      "\n",
      "  ID Gender    City  Age First Name Last Name\n",
      "A001      M   Paris   25       John     Alter\n",
      "A002      F  London   27      Alice Luxumberg\n",
      "A003      M  Berlin   29        Tom Sabestine\n",
      "A004      F Newyork   31       Nina     Adgra\n",
      "A005      F  Madrid   30        Amy     Johny\n"
     ]
    }
   ],
   "source": [
    "employee = pd.read_csv(\"employee.csv\")\n",
    "\n",
    "\n",
    "employee[[\"First Name\", \"Last Name\"]] = employee[\"Name\"].str.split(\" \", n=1, expand=True) # splitting the name into two individual columns as \" First_name\" and \" Last_name\" \n",
    "\n",
    "\n",
    "employee = employee.drop(columns=[\"Name\"]) # dropping the name column\n",
    "\n",
    "\n",
    "employee.to_csv(\"employee_updated.csv\", index=False)\n",
    "\n",
    "print(\"\\n Employee table updated:\\n\")\n",
    "print(employee.to_string(index=False)) # displaying employee table with  \"First_name\" and \"Last_name\" columns\n"
   ]
  },
  {
   "cell_type": "code",
   "execution_count": 139,
   "id": "e36fd37e-ba4b-46a8-98d5-5f0cabaa8ba9",
   "metadata": {},
   "outputs": [],
   "source": [
    "# Task-4 Naming the table with \"Final\" and joining all three dataframes in a single dataframe."
   ]
  },
  {
   "cell_type": "code",
   "execution_count": 140,
   "id": "3accb8e3-3a98-46d5-aba1-8f0b00e3b82f",
   "metadata": {},
   "outputs": [
    {
     "name": "stdout",
     "output_type": "stream",
     "text": [
      "\n",
      "Final:\n",
      "\n",
      "  ID Gender    City  Age First Name Last Name  Designation_Level    Project    Cost   Status\n",
      "A001      M   Paris   25       John     Alter                  2  Project 1 1002000 Finished\n",
      "A001      M   Paris   25       John     Alter                  2  Project 9 2210312  Ongoing\n",
      "A001      M   Paris   25       John     Alter                  2 Project 11 2000000   Failed\n",
      "A002      F  London   27      Alice Luxumberg                  2  Project 2 2000000  Ongoing\n",
      "A002      F  London   27      Alice Luxumberg                  2  Project 6  680000   Failed\n",
      "A003      M  Berlin   29        Tom Sabestine                  3  Project 3 4500000 Finished\n",
      "A003      M  Berlin   29        Tom Sabestine                  3  Project 8  350000   Failed\n",
      "A003      M  Berlin   29        Tom Sabestine                  3 Project 10  300000 Finished\n",
      "A004      F Newyork   31       Nina     Adgra                  2  Project 4 5500000  Ongoing\n",
      "A004      F Newyork   31       Nina     Adgra                  2 Project 12 1000000  Ongoing\n",
      "A004      F Newyork   31       Nina     Adgra                  2 Project 13 3000000 Finished\n",
      "A005      F  Madrid   30        Amy     Johny                  3  Project 5 3250500 Finished\n",
      "A005      F  Madrid   30        Amy     Johny                  3  Project 7  400000 Finished\n",
      "A005      F  Madrid   30        Amy     Johny                  3 Project 14  200000 Finished\n"
     ]
    }
   ],
   "source": [
    "employee = pd.read_csv(\"employee_updated.csv\")  \n",
    "seniority = pd.read_csv(\"seniority.csv\")\n",
    "project = pd.read_csv(\"project_updated.csv\")\n",
    "\n",
    "merged1 = pd.merge(employee, seniority, on=\"ID\", how=\"inner\") # merging employee dataframe with the seniority dataframe\n",
    "Final = pd.merge(merged1, project, on=\"ID\", how=\"inner\") # merging project data frame with the above merged table\n",
    "\n",
    "Final.to_csv(\"final.csv\", index=False) # saving merged file as \"Final\" \n",
    "\n",
    "pd.set_option(\"display.max_rows\", None) \n",
    "pd.set_option(\"display.max_columns\", None)\n",
    "pd.set_option(\"display.float_format\", '{:.0f}'.format)\n",
    "\n",
    "print(\"\\nFinal:\\n\")\n",
    "print(Final.to_string(index=False)) # displaying Combined one dataframe "
   ]
  },
  {
   "cell_type": "code",
   "execution_count": 113,
   "id": "90386c27-d038-4612-9f38-a8827ed6871f",
   "metadata": {},
   "outputs": [],
   "source": [
    "# Task-5 Adding the 5% bonus to the employees who finished the project and adding a new column bonus in the final dataframe."
   ]
  },
  {
   "cell_type": "code",
   "execution_count": 141,
   "id": "f585cd7b-a951-4f67-910f-2cf92780ed82",
   "metadata": {},
   "outputs": [
    {
     "name": "stdout",
     "output_type": "stream",
     "text": [
      "\n",
      " Final DataFrame with Bonus column:\n",
      "\n",
      "  ID Gender    City  Age First Name Last Name  Designation_Level    Project    Cost   Status  Bonus\n",
      "A001      M   Paris   25       John     Alter                  2  Project 1 1002000 Finished  50100\n",
      "A001      M   Paris   25       John     Alter                  2  Project 9 2210312  Ongoing      0\n",
      "A001      M   Paris   25       John     Alter                  2 Project 11 2000000   Failed      0\n",
      "A002      F  London   27      Alice Luxumberg                  2  Project 2 2000000  Ongoing      0\n",
      "A002      F  London   27      Alice Luxumberg                  2  Project 6  680000   Failed      0\n",
      "A003      M  Berlin   29        Tom Sabestine                  3  Project 3 4500000 Finished 225000\n",
      "A003      M  Berlin   29        Tom Sabestine                  3  Project 8  350000   Failed      0\n",
      "A003      M  Berlin   29        Tom Sabestine                  3 Project 10  300000 Finished  15000\n",
      "A004      F Newyork   31       Nina     Adgra                  2  Project 4 5500000  Ongoing      0\n",
      "A004      F Newyork   31       Nina     Adgra                  2 Project 12 1000000  Ongoing      0\n",
      "A004      F Newyork   31       Nina     Adgra                  2 Project 13 3000000 Finished 150000\n",
      "A005      F  Madrid   30        Amy     Johny                  3  Project 5 3250500 Finished 162525\n",
      "A005      F  Madrid   30        Amy     Johny                  3  Project 7  400000 Finished  20000\n",
      "A005      F  Madrid   30        Amy     Johny                  3 Project 14  200000 Finished  10000\n"
     ]
    }
   ],
   "source": [
    "Final = pd.read_csv(\"final.csv\")\n",
    "\n",
    "\n",
    "Final[\"Bonus\"] = 0  \n",
    "\n",
    "for i in range(len(Final)):\n",
    "    if Final.loc[i, \"Status\"] == \"Finished\": # finding out the status finished\n",
    "        Final.loc[i, \"Bonus\"] = Final.loc[i, \"Cost\"] * 0.05   # adding the 5% bonus and adding bonus column\n",
    "\n",
    "Final.to_csv(\"final_updated.csv\", index=False) \n",
    "\n",
    "pd.set_option(\"display.max_rows\", None)\n",
    "pd.set_option(\"display.max_columns\", None)\n",
    "pd.set_option(\"display.float_format\", '{:.0f}'.format)\n",
    "\n",
    "print(\"\\n Final DataFrame with Bonus column:\\n\")\n",
    "print(Final.to_string(index=False))  # displaying the updated dataframe with bonus column "
   ]
  },
  {
   "cell_type": "code",
   "execution_count": 95,
   "id": "45981319-a16d-4454-a280-26f57ff166cf",
   "metadata": {},
   "outputs": [],
   "source": [
    "# Task-6 Decreasing the designation level by 1, whose projects have \" Failed\" status and deleting who have more than 4"
   ]
  },
  {
   "cell_type": "code",
   "execution_count": 142,
   "id": "e3ee9710-dba2-4bf6-b978-d10005bc59aa",
   "metadata": {},
   "outputs": [
    {
     "name": "stdout",
     "output_type": "stream",
     "text": [
      "\n",
      " Final DataFrame after demotions:\n",
      "\n",
      "  ID Gender    City  Age First Name Last Name  Designation_Level    Project    Cost   Status  Bonus\n",
      "A001      M   Paris   25       John     Alter                  2  Project 1 1002000 Finished  50100\n",
      "A001      M   Paris   25       John     Alter                  2  Project 9 2210312  Ongoing      0\n",
      "A001      M   Paris   25       John     Alter                  1 Project 11 2000000   Failed      0\n",
      "A002      F  London   27      Alice Luxumberg                  2  Project 2 2000000  Ongoing      0\n",
      "A002      F  London   27      Alice Luxumberg                  1  Project 6  680000   Failed      0\n",
      "A003      M  Berlin   29        Tom Sabestine                  3  Project 3 4500000 Finished 225000\n",
      "A003      M  Berlin   29        Tom Sabestine                  2  Project 8  350000   Failed      0\n",
      "A003      M  Berlin   29        Tom Sabestine                  3 Project 10  300000 Finished  15000\n",
      "A004      F Newyork   31       Nina     Adgra                  2  Project 4 5500000  Ongoing      0\n",
      "A004      F Newyork   31       Nina     Adgra                  2 Project 12 1000000  Ongoing      0\n",
      "A004      F Newyork   31       Nina     Adgra                  2 Project 13 3000000 Finished 150000\n",
      "A005      F  Madrid   30        Amy     Johny                  3  Project 5 3250500 Finished 162525\n",
      "A005      F  Madrid   30        Amy     Johny                  3  Project 7  400000 Finished  20000\n",
      "A005      F  Madrid   30        Amy     Johny                  3 Project 14  200000 Finished  10000\n"
     ]
    }
   ],
   "source": [
    "\n",
    "\n",
    "Final = pd.read_csv(\"final_updated.csv\")\n",
    "\n",
    "\n",
    "for i in range(len(Final)):\n",
    "    if Final.loc[i, \"Status\"] == \"Failed\":  # finding out the status failed\n",
    "        if Final.loc[i, \"Designation_Level\"] > 1:   # demoting the designation level by 1\n",
    "            Final.loc[i, \"Designation_Level\"] -= 1 \n",
    "\n",
    "Final = Final[Final[\"Designation_Level\"] <= 4] # deleting the designation level which are above 4\n",
    "\n",
    "\n",
    "Final.to_csv(\"final_updated_task6.csv\", index=False) \n",
    "\n",
    "\n",
    "pd.set_option(\"display.max_rows\", None)\n",
    "pd.set_option(\"display.max_columns\", None)\n",
    "pd.set_option(\"display.float_format\", '{:.0f}'.format)\n",
    "\n",
    "print(\"\\n Final DataFrame after demotions:\\n\") \n",
    "print(Final.to_string(index=False)) # displaying the updated dataframe with designation "
   ]
  },
  {
   "cell_type": "code",
   "execution_count": 115,
   "id": "4faa405b-f00b-4c92-b14d-0161edc1a6be",
   "metadata": {},
   "outputs": [],
   "source": [
    "# Task-7  Drop the Gender column and adding \"Mr\" and \"Mrs\" to first name. "
   ]
  },
  {
   "cell_type": "code",
   "execution_count": 143,
   "id": "43b24fc0-4bc9-46d4-b43b-a3c8e8a480ae",
   "metadata": {},
   "outputs": [
    {
     "name": "stdout",
     "output_type": "stream",
     "text": [
      "\n",
      " Final DataFrame :\n",
      "\n",
      "  ID    City  Age First Name Last Name  Designation_Level    Project    Cost   Status  Bonus\n",
      "A001   Paris   25   Mr. John     Alter                  2  Project 1 1002000 Finished  50100\n",
      "A001   Paris   25   Mr. John     Alter                  2  Project 9 2210312  Ongoing      0\n",
      "A001   Paris   25   Mr. John     Alter                  1 Project 11 2000000   Failed      0\n",
      "A002  London   27 Mrs. Alice Luxumberg                  2  Project 2 2000000  Ongoing      0\n",
      "A002  London   27 Mrs. Alice Luxumberg                  1  Project 6  680000   Failed      0\n",
      "A003  Berlin   29    Mr. Tom Sabestine                  3  Project 3 4500000 Finished 225000\n",
      "A003  Berlin   29    Mr. Tom Sabestine                  2  Project 8  350000   Failed      0\n",
      "A003  Berlin   29    Mr. Tom Sabestine                  3 Project 10  300000 Finished  15000\n",
      "A004 Newyork   31  Mrs. Nina     Adgra                  2  Project 4 5500000  Ongoing      0\n",
      "A004 Newyork   31  Mrs. Nina     Adgra                  2 Project 12 1000000  Ongoing      0\n",
      "A004 Newyork   31  Mrs. Nina     Adgra                  2 Project 13 3000000 Finished 150000\n",
      "A005  Madrid   30   Mrs. Amy     Johny                  3  Project 5 3250500 Finished 162525\n",
      "A005  Madrid   30   Mrs. Amy     Johny                  3  Project 7  400000 Finished  20000\n",
      "A005  Madrid   30   Mrs. Amy     Johny                  3 Project 14  200000 Finished  10000\n"
     ]
    }
   ],
   "source": [
    "Final = pd.read_csv(\"final_updated_task6.csv\") \n",
    "\n",
    "\n",
    "for i in range(len(Final)):\n",
    "    if Final.loc[i, \"Gender\"] == \"M\": \n",
    "        Final.loc[i, \"First Name\"] = \"Mr. \" + Final.loc[i, \"First Name\"] # adding prefix \"Mr\" to  first name\n",
    "    elif Final.loc[i, \"Gender\"] == \"F\":\n",
    "        Final.loc[i, \"First Name\"] = \"Mrs. \" + Final.loc[i, \"First Name\"] # adding prefix \"Mrs\" to  first name\n",
    "\n",
    "\n",
    "Final = Final.drop(columns=[\"Gender\"])  # dropping the gender column \n",
    "\n",
    "\n",
    "Final.to_csv(\"final_updated_task7.csv\", index=False)\n",
    "\n",
    "\n",
    "pd.set_option(\"display.max_rows\", None)\n",
    "pd.set_option(\"display.max_columns\", None)\n",
    "pd.set_option(\"display.float_format\", '{:.0f}'.format)\n",
    "\n",
    "print(\"\\n Final DataFrame :\\n\")\n",
    "print(Final.to_string(index=False)) # displaying the updated dataframe removing the gender column"
   ]
  },
  {
   "cell_type": "code",
   "execution_count": 119,
   "id": "6b475d95-d01c-4c59-90e2-32c99dc59927",
   "metadata": {},
   "outputs": [],
   "source": [
    "# Task-8  promoting the designation level by 1 for the employees who age is above the 28 years using the \"IF\" Condition."
   ]
  },
  {
   "cell_type": "code",
   "execution_count": 144,
   "id": "c79b423f-5b14-4eb5-aa1e-e8af83683ab1",
   "metadata": {},
   "outputs": [
    {
     "name": "stdout",
     "output_type": "stream",
     "text": [
      "\n",
      "Final DataFrame after promotions:\n",
      "\n",
      "  ID    City  Age First Name Last Name  Designation_Level    Project    Cost   Status  Bonus\n",
      "A001   Paris   25   Mr. John     Alter                  2  Project 1 1002000 Finished  50100\n",
      "A001   Paris   25   Mr. John     Alter                  2  Project 9 2210312  Ongoing      0\n",
      "A001   Paris   25   Mr. John     Alter                  1 Project 11 2000000   Failed      0\n",
      "A002  London   27 Mrs. Alice Luxumberg                  2  Project 2 2000000  Ongoing      0\n",
      "A002  London   27 Mrs. Alice Luxumberg                  1  Project 6  680000   Failed      0\n",
      "A003  Berlin   29    Mr. Tom Sabestine                  3  Project 3 4500000 Finished 225000\n",
      "A003  Berlin   29    Mr. Tom Sabestine                  2  Project 8  350000   Failed      0\n",
      "A003  Berlin   29    Mr. Tom Sabestine                  3 Project 10  300000 Finished  15000\n",
      "A004 Newyork   31  Mrs. Nina     Adgra                  3  Project 4 5500000  Ongoing      0\n",
      "A004 Newyork   31  Mrs. Nina     Adgra                  3 Project 12 1000000  Ongoing      0\n",
      "A004 Newyork   31  Mrs. Nina     Adgra                  3 Project 13 3000000 Finished 150000\n",
      "A005  Madrid   30   Mrs. Amy     Johny                  4  Project 5 3250500 Finished 162525\n",
      "A005  Madrid   30   Mrs. Amy     Johny                  4  Project 7  400000 Finished  20000\n",
      "A005  Madrid   30   Mrs. Amy     Johny                  4 Project 14  200000 Finished  10000\n"
     ]
    }
   ],
   "source": [
    "\n",
    "\n",
    "Final = pd.read_csv(\"final_updated_task7.csv\")\n",
    "\n",
    "\n",
    "for i in range(len(Final)):\n",
    "     \n",
    "    if Final.loc[i, \"Age\"] > 29:       # finding out the employees whose age is above 29\n",
    "        \n",
    "        Final.loc[i, \"Designation_Level\"] += 1  # adding the designation level by 1\n",
    "\n",
    "Final.to_csv(\"final_updated_task8.csv\", index=False)\n",
    "\n",
    "pd.set_option(\"display.max_rows\", None)\n",
    "pd.set_option(\"display.max_columns\", None)\n",
    "pd.set_option(\"display.float_format\", '{:.0f}'.format)\n",
    "\n",
    "print(\"\\nFinal DataFrame after promotions:\\n\") \n",
    "print(Final.to_string(index=False)) # displaying the updated dataframe"
   ]
  },
  {
   "cell_type": "code",
   "execution_count": 101,
   "id": "70611ffa-8490-4154-b599-ca3afbe2f6d0",
   "metadata": {},
   "outputs": [],
   "source": [
    "# Task-9 Adding the project cost for all employees and nameing it has \"TotalProjCost\""
   ]
  },
  {
   "cell_type": "code",
   "execution_count": 145,
   "id": "39a831a2-057e-4dbc-ae41-8fc916e04d88",
   "metadata": {},
   "outputs": [
    {
     "name": "stdout",
     "output_type": "stream",
     "text": [
      "\n",
      " Total project cost per employee:\n",
      "\n",
      "  ID First Name  Total Cost\n",
      "A001   Mr. John     5212312\n",
      "A002 Mrs. Alice     2680000\n",
      "A003    Mr. Tom     5150000\n",
      "A004  Mrs. Nina     9500000\n",
      "A005   Mrs. Amy     3850500\n"
     ]
    }
   ],
   "source": [
    "\n",
    "Final = pd.read_csv(\"final_updated_task8.csv\")\n",
    "\n",
    "\n",
    "TotalProjCost = Final.groupby([\"ID\", \"First Name\"])[\"Cost\"].sum().reset_index() # creating the new dataframe with the \"ID\" \" Firstname\" \" Totalcost\"\n",
    "\n",
    "\n",
    "TotalProjCost = TotalProjCost.rename(columns={\"Cost\": \"Total Cost\"})\n",
    "\n",
    "\n",
    "TotalProjCost.to_csv(\"total_project_cost.csv\", index=False)\n",
    "\n",
    "\n",
    "pd.set_option(\"display.max_rows\", None)\n",
    "pd.set_option(\"display.max_columns\", None)\n",
    "pd.set_option(\"display.float_format\", '{:.0f}'.format)\n",
    "\n",
    "print(\"\\n Total project cost per employee:\\n\")\n",
    "print(TotalProjCost.to_string(index=False)) # displacing the new dataframe"
   ]
  },
  {
   "cell_type": "code",
   "execution_count": 103,
   "id": "6f09d342-3065-44d0-bcbe-4dcce2370477",
   "metadata": {},
   "outputs": [],
   "source": [
    "#Task-10 Printing the employee details whose city name have \"o\". "
   ]
  },
  {
   "cell_type": "code",
   "execution_count": 146,
   "id": "633dddc9-5327-406c-8f8e-ce15a474ce0e",
   "metadata": {},
   "outputs": [
    {
     "name": "stdout",
     "output_type": "stream",
     "text": [
      "\n",
      "Employees from cities containing 'o':\n",
      "\n",
      "  ID    City  Age First Name Last Name  Designation_Level    Project    Cost   Status  Bonus\n",
      "A002  London   27 Mrs. Alice Luxumberg                  2  Project 2 2000000  Ongoing      0\n",
      "A002  London   27 Mrs. Alice Luxumberg                  1  Project 6  680000   Failed      0\n",
      "A004 Newyork   31  Mrs. Nina     Adgra                  3  Project 4 5500000  Ongoing      0\n",
      "A004 Newyork   31  Mrs. Nina     Adgra                  3 Project 12 1000000  Ongoing      0\n",
      "A004 Newyork   31  Mrs. Nina     Adgra                  3 Project 13 3000000 Finished 150000\n"
     ]
    }
   ],
   "source": [
    "Final = pd.read_csv(\"final_updated_task8.csv\")\n",
    "\n",
    "\n",
    "filtered = Final[Final[\"City\"].str.contains(\"o\", case=False, na=False)]  # filtering the city name which have \"O\"\n",
    "\n",
    "\n",
    "pd.set_option(\"display.max_rows\", None)\n",
    "pd.set_option(\"display.max_columns\", None)\n",
    "pd.set_option(\"display.float_format\", '{:.0f}'.format)\n",
    "\n",
    "print(\"\\nEmployees from cities containing 'o':\\n\")\n",
    "print(filtered.to_string(index=False)) # displaying all the employee details whose city name has \"O\""
   ]
  },
  {
   "cell_type": "code",
   "execution_count": null,
   "id": "1640edd4-eb79-4dc5-ba21-393399323221",
   "metadata": {},
   "outputs": [],
   "source": []
  },
  {
   "cell_type": "code",
   "execution_count": null,
   "id": "a37fdde5-4adf-4bd2-a2b7-785d92dc1c12",
   "metadata": {},
   "outputs": [],
   "source": []
  },
  {
   "cell_type": "code",
   "execution_count": null,
   "id": "54f63033-842a-46b3-8350-c2021e00a71c",
   "metadata": {},
   "outputs": [],
   "source": []
  },
  {
   "cell_type": "code",
   "execution_count": null,
   "id": "d26ab779-165f-4c0d-b164-6df41bcf7269",
   "metadata": {},
   "outputs": [],
   "source": []
  },
  {
   "cell_type": "code",
   "execution_count": null,
   "id": "76b9f5ec-6faf-47c9-bec8-bfd91034ab1f",
   "metadata": {},
   "outputs": [],
   "source": []
  },
  {
   "cell_type": "code",
   "execution_count": null,
   "id": "dd4fcf82-6052-4478-ae4b-69ef3d8e1e40",
   "metadata": {},
   "outputs": [],
   "source": []
  },
  {
   "cell_type": "code",
   "execution_count": null,
   "id": "59bf9eeb-6014-4f73-bd4d-d46e2a9570e6",
   "metadata": {},
   "outputs": [],
   "source": []
  },
  {
   "cell_type": "code",
   "execution_count": null,
   "id": "74401c1b-6b64-4ada-9be9-05da59fd5ed2",
   "metadata": {},
   "outputs": [],
   "source": []
  },
  {
   "cell_type": "code",
   "execution_count": null,
   "id": "37829f15-d0e5-4533-88a5-14d38a040aa9",
   "metadata": {},
   "outputs": [],
   "source": []
  },
  {
   "cell_type": "code",
   "execution_count": null,
   "id": "81c7761a-871d-4bef-8ce2-de5eb2d496f9",
   "metadata": {},
   "outputs": [],
   "source": []
  },
  {
   "cell_type": "code",
   "execution_count": null,
   "id": "77c66b57-d768-47eb-80d5-316e4c1fa145",
   "metadata": {},
   "outputs": [],
   "source": []
  },
  {
   "cell_type": "code",
   "execution_count": null,
   "id": "b0bc7856-d5a7-45a4-8cad-c892a3747747",
   "metadata": {},
   "outputs": [],
   "source": []
  }
 ],
 "metadata": {
  "kernelspec": {
   "display_name": "Python 3 (ipykernel)",
   "language": "python",
   "name": "python3"
  },
  "language_info": {
   "codemirror_mode": {
    "name": "ipython",
    "version": 3
   },
   "file_extension": ".py",
   "mimetype": "text/x-python",
   "name": "python",
   "nbconvert_exporter": "python",
   "pygments_lexer": "ipython3",
   "version": "3.13.5"
  }
 },
 "nbformat": 4,
 "nbformat_minor": 5
}
